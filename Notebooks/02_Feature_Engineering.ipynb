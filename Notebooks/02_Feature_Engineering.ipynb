{
  "nbformat": 4,
  "nbformat_minor": 0,
  "metadata": {
    "colab": {
      "provenance": []
    },
    "kernelspec": {
      "name": "python3",
      "display_name": "Python 3"
    },
    "language_info": {
      "name": "python"
    }
  },
  "cells": [
    {
      "cell_type": "markdown",
      "source": [
        "## **Title**"
      ],
      "metadata": {
        "id": "iCblXK2PUZp-"
      }
    },
    {
      "cell_type": "markdown",
      "source": [
        "**Personalized Education Analytics for Online Learning Platforms**"
      ],
      "metadata": {
        "id": "lJixRYmxUc85"
      }
    },
    {
      "cell_type": "markdown",
      "source": [
        "## **Introduction**"
      ],
      "metadata": {
        "id": "yIsDwYk2UgpO"
      }
    },
    {
      "cell_type": "markdown",
      "source": [
        "In this notebook, we build on the Exploratory Data Analysis of Notebook 1 by preparing the dataset for modeling and recommendation. We focus on encoding the categorical variables and engineer meaningful features for model development."
      ],
      "metadata": {
        "id": "64shONT5Uixq"
      }
    },
    {
      "cell_type": "markdown",
      "source": [
        "## **Objectives**"
      ],
      "metadata": {
        "id": "Ww5wBzZFMHuS"
      }
    },
    {
      "cell_type": "markdown",
      "source": [
        "1.   Prepare the dataset for machine learning modeling and clustering\n",
        "\n",
        "2.   Encode categorical variables appropriately for modeling\n",
        "\n",
        "3.   Perform feature engineering to extract behavioral metrics:\n",
        "  \n",
        "  a. Engagement Score: Measures overall activity level\n",
        "\n",
        "  b. Learning Outcome Score: Measures the academic performance\n",
        "\n",
        "  c. Age Groups: Helps cluster users by demographic bands\n",
        "\n",
        "4. Create a clean and transformed dataset ready for clustering, classification and recommendation logic.\n"
      ],
      "metadata": {
        "id": "6ShoTXy7OWfs"
      }
    },
    {
      "cell_type": "markdown",
      "source": [
        "## **Import Libraries**"
      ],
      "metadata": {
        "id": "OpQKNX6NU13R"
      }
    },
    {
      "cell_type": "code",
      "execution_count": null,
      "metadata": {
        "id": "B0uU3UXiSf-N"
      },
      "outputs": [],
      "source": [
        "import pandas as pd\n",
        "import numpy as np\n",
        "\n",
        "import matplotlib.pyplot as plt\n",
        "import seaborn as sns\n",
        "sns.set(style ='whitegrid')\n",
        "\n",
        "import warnings\n",
        "warnings.filterwarnings('ignore')"
      ]
    },
    {
      "cell_type": "markdown",
      "source": [
        "## **Load Datasets**"
      ],
      "metadata": {
        "id": "UZdI20CXVPuD"
      }
    },
    {
      "cell_type": "code",
      "source": [
        "# Mount Google Drive\n",
        "from google.colab import drive\n",
        "drive.mount('/content/drive')"
      ],
      "metadata": {
        "colab": {
          "base_uri": "https://localhost:8080/"
        },
        "id": "MjL3YfStVY1J",
        "outputId": "8dafe986-80c3-42ba-c239-6528ca1f003f"
      },
      "execution_count": null,
      "outputs": [
        {
          "output_type": "stream",
          "name": "stdout",
          "text": [
            "Drive already mounted at /content/drive; to attempt to forcibly remount, call drive.mount(\"/content/drive\", force_remount=True).\n"
          ]
        }
      ]
    },
    {
      "cell_type": "code",
      "source": [
        "# Load the dataset\n",
        "df = pd.read_csv('/content/drive/MyDrive/results/cleaned_personalized_learning_dataset.csv')"
      ],
      "metadata": {
        "id": "HTQflg0AVEw1"
      },
      "execution_count": null,
      "outputs": []
    },
    {
      "cell_type": "markdown",
      "source": [
        "## **Copy Dataset for Modeling**"
      ],
      "metadata": {
        "id": "RC-yU5fFFROO"
      }
    },
    {
      "cell_type": "code",
      "source": [
        "df_model = df.copy()"
      ],
      "metadata": {
        "id": "-JI-6A7mFWpk"
      },
      "execution_count": null,
      "outputs": []
    },
    {
      "cell_type": "markdown",
      "source": [
        "## **Encoding Categorical Variables**"
      ],
      "metadata": {
        "id": "zjrx6oOhMa_r"
      }
    },
    {
      "cell_type": "markdown",
      "source": [
        "### **Label Encoding**"
      ],
      "metadata": {
        "id": "HOSq5tldMfnC"
      }
    },
    {
      "cell_type": "code",
      "source": [
        "df_model['gender'] = df_model['gender'].map({'Male': 0, 'Female': 1, 'Other': 2})"
      ],
      "metadata": {
        "id": "wkb6vH37Mj3-"
      },
      "execution_count": null,
      "outputs": []
    },
    {
      "cell_type": "markdown",
      "source": [
        "### **Binary Encoding**"
      ],
      "metadata": {
        "id": "NhTaWPBOX2zZ"
      }
    },
    {
      "cell_type": "code",
      "source": [
        "df_model['dropout_likelihood'] = df_model['dropout_likelihood'].map({'No': 0, 'Yes': 1})"
      ],
      "metadata": {
        "id": "S9s5im2bX6fc"
      },
      "execution_count": null,
      "outputs": []
    },
    {
      "cell_type": "markdown",
      "source": [
        "### **Ordinal Encoding**"
      ],
      "metadata": {
        "id": "ckWiHCGPNHKT"
      }
    },
    {
      "cell_type": "code",
      "source": [
        "df_model['engagement_level'] = df_model['engagement_level'].map({'Low': 0, 'Medium': 1, 'High': 2})"
      ],
      "metadata": {
        "id": "0cKNJMJDNGgj"
      },
      "execution_count": null,
      "outputs": []
    },
    {
      "cell_type": "markdown",
      "source": [
        "### **One-hot encode multiclass categoricals**"
      ],
      "metadata": {
        "id": "46BrhwwGNUMO"
      }
    },
    {
      "cell_type": "code",
      "source": [
        "df_model = pd.get_dummies(df_model, columns=['education_level', 'course_name', 'learning_style'], drop_first=True)"
      ],
      "metadata": {
        "id": "18K5EaHNNTc6"
      },
      "execution_count": null,
      "outputs": []
    },
    {
      "cell_type": "markdown",
      "source": [
        "## **Feature Engineering**"
      ],
      "metadata": {
        "id": "k3w4QzBgODUt"
      }
    },
    {
      "cell_type": "markdown",
      "source": [
        "**Engagement Score**"
      ],
      "metadata": {
        "id": "m6Awj-3tOG8E"
      }
    },
    {
      "cell_type": "code",
      "source": [
        "df_model['engagement_score']  = (\n",
        "    0.3 * df['time_spent_on_videos'] +\n",
        "    0.2 * df['forum_participation'] +\n",
        "    0.2 * df['quiz_attempts'] +\n",
        "    0.3 * df['assignment_completion_rate']\n",
        ").round(2)"
      ],
      "metadata": {
        "id": "KkLAIiT2OBMQ"
      },
      "execution_count": null,
      "outputs": []
    },
    {
      "cell_type": "markdown",
      "source": [
        "**Learning Outcome Score**"
      ],
      "metadata": {
        "id": "nHzfeyZEO0dD"
      }
    },
    {
      "cell_type": "code",
      "source": [
        "df_model['learning_outcome_score'] = (\n",
        "    0.5 * df['final_exam_score'] +\n",
        "    0.3 * df['quiz_scores'] +\n",
        "    0.2 * df['feedback_score']\n",
        ").round(2)"
      ],
      "metadata": {
        "id": "aJQsgt8_OzeY"
      },
      "execution_count": null,
      "outputs": []
    },
    {
      "cell_type": "markdown",
      "source": [
        "**Age Group Binning**"
      ],
      "metadata": {
        "id": "nzTS8QbdQZSa"
      }
    },
    {
      "cell_type": "code",
      "source": [
        "df_model['age_group'] = pd.cut(df_model['age'], bins=[10, 18, 25, 35, 50, 70],\n",
        "                         labels=['10–18', '19–25', '26–35', '36–50', '51+'])\n",
        "df_model = pd.get_dummies(df_model, columns=['age_group'], drop_first=True)\n"
      ],
      "metadata": {
        "id": "Hwow8-JXQecc"
      },
      "execution_count": null,
      "outputs": []
    },
    {
      "cell_type": "markdown",
      "source": [
        "**Engagament Category**"
      ],
      "metadata": {
        "id": "Q5kmvB5QQj4e"
      }
    },
    {
      "cell_type": "code",
      "source": [
        "def classify_engagement(score):\n",
        "    if score >= 300:\n",
        "        return 'High'\n",
        "    elif score >= 200:\n",
        "        return 'Medium'\n",
        "    else:\n",
        "        return 'Low'\n",
        "\n",
        "df_model['engagement_category'] = df_model['engagement_score'].apply(classify_engagement)\n",
        "df_model = pd.get_dummies(df_model, columns=['engagement_category'], drop_first=True)\n"
      ],
      "metadata": {
        "id": "DIwclXAzQia7"
      },
      "execution_count": null,
      "outputs": []
    },
    {
      "cell_type": "markdown",
      "source": [
        "## **Save the dataset**"
      ],
      "metadata": {
        "id": "pqaJkpxeLPeJ"
      }
    },
    {
      "cell_type": "code",
      "source": [
        "df_model.to_csv('/content/drive/MyDrive/results/final_personalized_learning_dataset.csv', index = False)"
      ],
      "metadata": {
        "id": "1XoRXaF-LTbe"
      },
      "execution_count": null,
      "outputs": []
    },
    {
      "cell_type": "markdown",
      "source": [
        "## **Summary**"
      ],
      "metadata": {
        "id": "BZMT_6eCNR7p"
      }
    },
    {
      "cell_type": "markdown",
      "source": [
        "We encoded all relevant categorical features using appropriate techniques:\n",
        "\n",
        "a. Label Encoding for: gender\n",
        "\n",
        "b. Binary Encoding for dropout_likelihood\n",
        "\n",
        "c. Ordinal Encoding for engagement level\n",
        "\n",
        "d. One hot encoding for multiclass categoricals - course name, education level and learning style.\n",
        "\n",
        "We created composite features: engagement score, learning outcome score and age groups. Finally, we save this processed dataset to use in notebook 3 for building the recommendation model.\n",
        "\n",
        "**Next Steps**\n",
        "\n",
        "We cluster learners based on engagement and performance. We then train a model to predict dropout risk and generate personalized course recommendation."
      ],
      "metadata": {
        "id": "YQe7css6NUjn"
      }
    }
  ]
}