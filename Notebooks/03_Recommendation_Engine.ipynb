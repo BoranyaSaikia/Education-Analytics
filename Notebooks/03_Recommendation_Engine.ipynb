{
  "nbformat": 4,
  "nbformat_minor": 0,
  "metadata": {
    "colab": {
      "provenance": []
    },
    "kernelspec": {
      "name": "python3",
      "display_name": "Python 3"
    },
    "language_info": {
      "name": "python"
    }
  },
  "cells": [
    {
      "cell_type": "markdown",
      "source": [
        "## **Title**"
      ],
      "metadata": {
        "id": "cTyTrkpRQPoE"
      }
    },
    {
      "cell_type": "markdown",
      "source": [
        "**Personalized Education Analytics for Online Learning Platforms**"
      ],
      "metadata": {
        "id": "EGz2hpoxQUwD"
      }
    },
    {
      "cell_type": "markdown",
      "source": [
        "## **Introduction**"
      ],
      "metadata": {
        "id": "Tsv7ZOPFQcLo"
      }
    },
    {
      "cell_type": "markdown",
      "source": [
        "In this notebook, we use clustering and supervised learning to build a hybrid recommendation engine for personalized learning paths."
      ],
      "metadata": {
        "id": "vS2rhGxSQfyv"
      }
    },
    {
      "cell_type": "markdown",
      "source": [
        "## **Import libraries**"
      ],
      "metadata": {
        "id": "pzzArHWVQxcR"
      }
    },
    {
      "cell_type": "code",
      "source": [
        "import pandas as pd\n",
        "\n",
        "import matplotlib.pyplot as plt\n",
        "import seaborn as sns\n",
        "\n",
        "from sklearn.cluster import KMeans\n",
        "from sklearn.preprocessing import StandardScaler\n",
        "\n",
        "from sklearn.ensemble import RandomForestClassifier\n",
        "from sklearn.model_selection import train_test_split\n",
        "from sklearn.metrics import classification_report, ConfusionMatrixDisplay\n"
      ],
      "metadata": {
        "id": "or3eFDTbQzbg"
      },
      "execution_count": null,
      "outputs": []
    },
    {
      "cell_type": "markdown",
      "source": [
        "## **Load the dataset**"
      ],
      "metadata": {
        "id": "3qyxq4iuQncc"
      }
    },
    {
      "cell_type": "code",
      "source": [
        "# Mount Google Drive\n",
        "from google.colab import drive\n",
        "drive.mount('/content/drive')"
      ],
      "metadata": {
        "colab": {
          "base_uri": "https://localhost:8080/"
        },
        "id": "CTNb4RwkQ2qf",
        "outputId": "96e99e44-edc9-4a26-a61f-b7dbb44e3550"
      },
      "execution_count": null,
      "outputs": [
        {
          "output_type": "stream",
          "name": "stdout",
          "text": [
            "Mounted at /content/drive\n"
          ]
        }
      ]
    },
    {
      "cell_type": "code",
      "source": [
        "df = pd.read_csv('/content/drive/MyDrive/results/final_personalized_learning_dataset.csv')\n",
        "df.head()"
      ],
      "metadata": {
        "colab": {
          "base_uri": "https://localhost:8080/",
          "height": 273
        },
        "id": "cQS6YTQsQ-oM",
        "outputId": "0a4155ab-7788-4ed0-f0cd-e4a3104149e0"
      },
      "execution_count": null,
      "outputs": [
        {
          "output_type": "execute_result",
          "data": {
            "text/plain": [
              "  student_id  age  gender  time_spent_on_videos  quiz_attempts  quiz_scores  \\\n",
              "0     S00001   15       1                   171              4           67   \n",
              "1     S00002   49       0                   156              4           64   \n",
              "2     S00003   20       1                   217              2           55   \n",
              "3     S00004   37       1                   489              1           65   \n",
              "4     S00005   34       1                   496              3           59   \n",
              "\n",
              "   forum_participation  assignment_completion_rate  engagement_level  \\\n",
              "0                    2                          89                 1   \n",
              "1                    0                          94                 1   \n",
              "2                    2                          67                 1   \n",
              "3                   43                          60                 2   \n",
              "4                   34                          88                 1   \n",
              "\n",
              "   final_exam_score  ...  course_name_Web Development  \\\n",
              "0                51  ...                        False   \n",
              "1                92  ...                        False   \n",
              "2                45  ...                        False   \n",
              "3                59  ...                        False   \n",
              "4                93  ...                        False   \n",
              "\n",
              "   learning_style_Kinesthetic  learning_style_Reading/Writing  \\\n",
              "0                       False                           False   \n",
              "1                       False                            True   \n",
              "2                       False                            True   \n",
              "3                       False                           False   \n",
              "4                       False                           False   \n",
              "\n",
              "   learning_style_Visual  engagement_score  learning_outcome_score  \\\n",
              "0                   True              79.2                    45.8   \n",
              "1                  False              75.8                    66.2   \n",
              "2                  False              86.0                    39.2   \n",
              "3                   True             173.5                    49.8   \n",
              "4                   True             182.6                    64.8   \n",
              "\n",
              "   age_group_19–25  age_group_26–35  age_group_36–50  age_group_51+  \n",
              "0            False            False            False          False  \n",
              "1            False            False             True          False  \n",
              "2             True            False            False          False  \n",
              "3            False            False             True          False  \n",
              "4            False             True            False          False  \n",
              "\n",
              "[5 rows x 27 columns]"
            ],
            "text/html": [
              "\n",
              "  <div id=\"df-50e94ce6-a696-476c-851f-c7877167413e\" class=\"colab-df-container\">\n",
              "    <div>\n",
              "<style scoped>\n",
              "    .dataframe tbody tr th:only-of-type {\n",
              "        vertical-align: middle;\n",
              "    }\n",
              "\n",
              "    .dataframe tbody tr th {\n",
              "        vertical-align: top;\n",
              "    }\n",
              "\n",
              "    .dataframe thead th {\n",
              "        text-align: right;\n",
              "    }\n",
              "</style>\n",
              "<table border=\"1\" class=\"dataframe\">\n",
              "  <thead>\n",
              "    <tr style=\"text-align: right;\">\n",
              "      <th></th>\n",
              "      <th>student_id</th>\n",
              "      <th>age</th>\n",
              "      <th>gender</th>\n",
              "      <th>time_spent_on_videos</th>\n",
              "      <th>quiz_attempts</th>\n",
              "      <th>quiz_scores</th>\n",
              "      <th>forum_participation</th>\n",
              "      <th>assignment_completion_rate</th>\n",
              "      <th>engagement_level</th>\n",
              "      <th>final_exam_score</th>\n",
              "      <th>...</th>\n",
              "      <th>course_name_Web Development</th>\n",
              "      <th>learning_style_Kinesthetic</th>\n",
              "      <th>learning_style_Reading/Writing</th>\n",
              "      <th>learning_style_Visual</th>\n",
              "      <th>engagement_score</th>\n",
              "      <th>learning_outcome_score</th>\n",
              "      <th>age_group_19–25</th>\n",
              "      <th>age_group_26–35</th>\n",
              "      <th>age_group_36–50</th>\n",
              "      <th>age_group_51+</th>\n",
              "    </tr>\n",
              "  </thead>\n",
              "  <tbody>\n",
              "    <tr>\n",
              "      <th>0</th>\n",
              "      <td>S00001</td>\n",
              "      <td>15</td>\n",
              "      <td>1</td>\n",
              "      <td>171</td>\n",
              "      <td>4</td>\n",
              "      <td>67</td>\n",
              "      <td>2</td>\n",
              "      <td>89</td>\n",
              "      <td>1</td>\n",
              "      <td>51</td>\n",
              "      <td>...</td>\n",
              "      <td>False</td>\n",
              "      <td>False</td>\n",
              "      <td>False</td>\n",
              "      <td>True</td>\n",
              "      <td>79.2</td>\n",
              "      <td>45.8</td>\n",
              "      <td>False</td>\n",
              "      <td>False</td>\n",
              "      <td>False</td>\n",
              "      <td>False</td>\n",
              "    </tr>\n",
              "    <tr>\n",
              "      <th>1</th>\n",
              "      <td>S00002</td>\n",
              "      <td>49</td>\n",
              "      <td>0</td>\n",
              "      <td>156</td>\n",
              "      <td>4</td>\n",
              "      <td>64</td>\n",
              "      <td>0</td>\n",
              "      <td>94</td>\n",
              "      <td>1</td>\n",
              "      <td>92</td>\n",
              "      <td>...</td>\n",
              "      <td>False</td>\n",
              "      <td>False</td>\n",
              "      <td>True</td>\n",
              "      <td>False</td>\n",
              "      <td>75.8</td>\n",
              "      <td>66.2</td>\n",
              "      <td>False</td>\n",
              "      <td>False</td>\n",
              "      <td>True</td>\n",
              "      <td>False</td>\n",
              "    </tr>\n",
              "    <tr>\n",
              "      <th>2</th>\n",
              "      <td>S00003</td>\n",
              "      <td>20</td>\n",
              "      <td>1</td>\n",
              "      <td>217</td>\n",
              "      <td>2</td>\n",
              "      <td>55</td>\n",
              "      <td>2</td>\n",
              "      <td>67</td>\n",
              "      <td>1</td>\n",
              "      <td>45</td>\n",
              "      <td>...</td>\n",
              "      <td>False</td>\n",
              "      <td>False</td>\n",
              "      <td>True</td>\n",
              "      <td>False</td>\n",
              "      <td>86.0</td>\n",
              "      <td>39.2</td>\n",
              "      <td>True</td>\n",
              "      <td>False</td>\n",
              "      <td>False</td>\n",
              "      <td>False</td>\n",
              "    </tr>\n",
              "    <tr>\n",
              "      <th>3</th>\n",
              "      <td>S00004</td>\n",
              "      <td>37</td>\n",
              "      <td>1</td>\n",
              "      <td>489</td>\n",
              "      <td>1</td>\n",
              "      <td>65</td>\n",
              "      <td>43</td>\n",
              "      <td>60</td>\n",
              "      <td>2</td>\n",
              "      <td>59</td>\n",
              "      <td>...</td>\n",
              "      <td>False</td>\n",
              "      <td>False</td>\n",
              "      <td>False</td>\n",
              "      <td>True</td>\n",
              "      <td>173.5</td>\n",
              "      <td>49.8</td>\n",
              "      <td>False</td>\n",
              "      <td>False</td>\n",
              "      <td>True</td>\n",
              "      <td>False</td>\n",
              "    </tr>\n",
              "    <tr>\n",
              "      <th>4</th>\n",
              "      <td>S00005</td>\n",
              "      <td>34</td>\n",
              "      <td>1</td>\n",
              "      <td>496</td>\n",
              "      <td>3</td>\n",
              "      <td>59</td>\n",
              "      <td>34</td>\n",
              "      <td>88</td>\n",
              "      <td>1</td>\n",
              "      <td>93</td>\n",
              "      <td>...</td>\n",
              "      <td>False</td>\n",
              "      <td>False</td>\n",
              "      <td>False</td>\n",
              "      <td>True</td>\n",
              "      <td>182.6</td>\n",
              "      <td>64.8</td>\n",
              "      <td>False</td>\n",
              "      <td>True</td>\n",
              "      <td>False</td>\n",
              "      <td>False</td>\n",
              "    </tr>\n",
              "  </tbody>\n",
              "</table>\n",
              "<p>5 rows × 27 columns</p>\n",
              "</div>\n",
              "    <div class=\"colab-df-buttons\">\n",
              "\n",
              "  <div class=\"colab-df-container\">\n",
              "    <button class=\"colab-df-convert\" onclick=\"convertToInteractive('df-50e94ce6-a696-476c-851f-c7877167413e')\"\n",
              "            title=\"Convert this dataframe to an interactive table.\"\n",
              "            style=\"display:none;\">\n",
              "\n",
              "  <svg xmlns=\"http://www.w3.org/2000/svg\" height=\"24px\" viewBox=\"0 -960 960 960\">\n",
              "    <path d=\"M120-120v-720h720v720H120Zm60-500h600v-160H180v160Zm220 220h160v-160H400v160Zm0 220h160v-160H400v160ZM180-400h160v-160H180v160Zm440 0h160v-160H620v160ZM180-180h160v-160H180v160Zm440 0h160v-160H620v160Z\"/>\n",
              "  </svg>\n",
              "    </button>\n",
              "\n",
              "  <style>\n",
              "    .colab-df-container {\n",
              "      display:flex;\n",
              "      gap: 12px;\n",
              "    }\n",
              "\n",
              "    .colab-df-convert {\n",
              "      background-color: #E8F0FE;\n",
              "      border: none;\n",
              "      border-radius: 50%;\n",
              "      cursor: pointer;\n",
              "      display: none;\n",
              "      fill: #1967D2;\n",
              "      height: 32px;\n",
              "      padding: 0 0 0 0;\n",
              "      width: 32px;\n",
              "    }\n",
              "\n",
              "    .colab-df-convert:hover {\n",
              "      background-color: #E2EBFA;\n",
              "      box-shadow: 0px 1px 2px rgba(60, 64, 67, 0.3), 0px 1px 3px 1px rgba(60, 64, 67, 0.15);\n",
              "      fill: #174EA6;\n",
              "    }\n",
              "\n",
              "    .colab-df-buttons div {\n",
              "      margin-bottom: 4px;\n",
              "    }\n",
              "\n",
              "    [theme=dark] .colab-df-convert {\n",
              "      background-color: #3B4455;\n",
              "      fill: #D2E3FC;\n",
              "    }\n",
              "\n",
              "    [theme=dark] .colab-df-convert:hover {\n",
              "      background-color: #434B5C;\n",
              "      box-shadow: 0px 1px 3px 1px rgba(0, 0, 0, 0.15);\n",
              "      filter: drop-shadow(0px 1px 2px rgba(0, 0, 0, 0.3));\n",
              "      fill: #FFFFFF;\n",
              "    }\n",
              "  </style>\n",
              "\n",
              "    <script>\n",
              "      const buttonEl =\n",
              "        document.querySelector('#df-50e94ce6-a696-476c-851f-c7877167413e button.colab-df-convert');\n",
              "      buttonEl.style.display =\n",
              "        google.colab.kernel.accessAllowed ? 'block' : 'none';\n",
              "\n",
              "      async function convertToInteractive(key) {\n",
              "        const element = document.querySelector('#df-50e94ce6-a696-476c-851f-c7877167413e');\n",
              "        const dataTable =\n",
              "          await google.colab.kernel.invokeFunction('convertToInteractive',\n",
              "                                                    [key], {});\n",
              "        if (!dataTable) return;\n",
              "\n",
              "        const docLinkHtml = 'Like what you see? Visit the ' +\n",
              "          '<a target=\"_blank\" href=https://colab.research.google.com/notebooks/data_table.ipynb>data table notebook</a>'\n",
              "          + ' to learn more about interactive tables.';\n",
              "        element.innerHTML = '';\n",
              "        dataTable['output_type'] = 'display_data';\n",
              "        await google.colab.output.renderOutput(dataTable, element);\n",
              "        const docLink = document.createElement('div');\n",
              "        docLink.innerHTML = docLinkHtml;\n",
              "        element.appendChild(docLink);\n",
              "      }\n",
              "    </script>\n",
              "  </div>\n",
              "\n",
              "\n",
              "    <div id=\"df-59f42287-d09a-443e-ada9-79cade215e35\">\n",
              "      <button class=\"colab-df-quickchart\" onclick=\"quickchart('df-59f42287-d09a-443e-ada9-79cade215e35')\"\n",
              "                title=\"Suggest charts\"\n",
              "                style=\"display:none;\">\n",
              "\n",
              "<svg xmlns=\"http://www.w3.org/2000/svg\" height=\"24px\"viewBox=\"0 0 24 24\"\n",
              "     width=\"24px\">\n",
              "    <g>\n",
              "        <path d=\"M19 3H5c-1.1 0-2 .9-2 2v14c0 1.1.9 2 2 2h14c1.1 0 2-.9 2-2V5c0-1.1-.9-2-2-2zM9 17H7v-7h2v7zm4 0h-2V7h2v10zm4 0h-2v-4h2v4z\"/>\n",
              "    </g>\n",
              "</svg>\n",
              "      </button>\n",
              "\n",
              "<style>\n",
              "  .colab-df-quickchart {\n",
              "      --bg-color: #E8F0FE;\n",
              "      --fill-color: #1967D2;\n",
              "      --hover-bg-color: #E2EBFA;\n",
              "      --hover-fill-color: #174EA6;\n",
              "      --disabled-fill-color: #AAA;\n",
              "      --disabled-bg-color: #DDD;\n",
              "  }\n",
              "\n",
              "  [theme=dark] .colab-df-quickchart {\n",
              "      --bg-color: #3B4455;\n",
              "      --fill-color: #D2E3FC;\n",
              "      --hover-bg-color: #434B5C;\n",
              "      --hover-fill-color: #FFFFFF;\n",
              "      --disabled-bg-color: #3B4455;\n",
              "      --disabled-fill-color: #666;\n",
              "  }\n",
              "\n",
              "  .colab-df-quickchart {\n",
              "    background-color: var(--bg-color);\n",
              "    border: none;\n",
              "    border-radius: 50%;\n",
              "    cursor: pointer;\n",
              "    display: none;\n",
              "    fill: var(--fill-color);\n",
              "    height: 32px;\n",
              "    padding: 0;\n",
              "    width: 32px;\n",
              "  }\n",
              "\n",
              "  .colab-df-quickchart:hover {\n",
              "    background-color: var(--hover-bg-color);\n",
              "    box-shadow: 0 1px 2px rgba(60, 64, 67, 0.3), 0 1px 3px 1px rgba(60, 64, 67, 0.15);\n",
              "    fill: var(--button-hover-fill-color);\n",
              "  }\n",
              "\n",
              "  .colab-df-quickchart-complete:disabled,\n",
              "  .colab-df-quickchart-complete:disabled:hover {\n",
              "    background-color: var(--disabled-bg-color);\n",
              "    fill: var(--disabled-fill-color);\n",
              "    box-shadow: none;\n",
              "  }\n",
              "\n",
              "  .colab-df-spinner {\n",
              "    border: 2px solid var(--fill-color);\n",
              "    border-color: transparent;\n",
              "    border-bottom-color: var(--fill-color);\n",
              "    animation:\n",
              "      spin 1s steps(1) infinite;\n",
              "  }\n",
              "\n",
              "  @keyframes spin {\n",
              "    0% {\n",
              "      border-color: transparent;\n",
              "      border-bottom-color: var(--fill-color);\n",
              "      border-left-color: var(--fill-color);\n",
              "    }\n",
              "    20% {\n",
              "      border-color: transparent;\n",
              "      border-left-color: var(--fill-color);\n",
              "      border-top-color: var(--fill-color);\n",
              "    }\n",
              "    30% {\n",
              "      border-color: transparent;\n",
              "      border-left-color: var(--fill-color);\n",
              "      border-top-color: var(--fill-color);\n",
              "      border-right-color: var(--fill-color);\n",
              "    }\n",
              "    40% {\n",
              "      border-color: transparent;\n",
              "      border-right-color: var(--fill-color);\n",
              "      border-top-color: var(--fill-color);\n",
              "    }\n",
              "    60% {\n",
              "      border-color: transparent;\n",
              "      border-right-color: var(--fill-color);\n",
              "    }\n",
              "    80% {\n",
              "      border-color: transparent;\n",
              "      border-right-color: var(--fill-color);\n",
              "      border-bottom-color: var(--fill-color);\n",
              "    }\n",
              "    90% {\n",
              "      border-color: transparent;\n",
              "      border-bottom-color: var(--fill-color);\n",
              "    }\n",
              "  }\n",
              "</style>\n",
              "\n",
              "      <script>\n",
              "        async function quickchart(key) {\n",
              "          const quickchartButtonEl =\n",
              "            document.querySelector('#' + key + ' button');\n",
              "          quickchartButtonEl.disabled = true;  // To prevent multiple clicks.\n",
              "          quickchartButtonEl.classList.add('colab-df-spinner');\n",
              "          try {\n",
              "            const charts = await google.colab.kernel.invokeFunction(\n",
              "                'suggestCharts', [key], {});\n",
              "          } catch (error) {\n",
              "            console.error('Error during call to suggestCharts:', error);\n",
              "          }\n",
              "          quickchartButtonEl.classList.remove('colab-df-spinner');\n",
              "          quickchartButtonEl.classList.add('colab-df-quickchart-complete');\n",
              "        }\n",
              "        (() => {\n",
              "          let quickchartButtonEl =\n",
              "            document.querySelector('#df-59f42287-d09a-443e-ada9-79cade215e35 button');\n",
              "          quickchartButtonEl.style.display =\n",
              "            google.colab.kernel.accessAllowed ? 'block' : 'none';\n",
              "        })();\n",
              "      </script>\n",
              "    </div>\n",
              "\n",
              "    </div>\n",
              "  </div>\n"
            ],
            "application/vnd.google.colaboratory.intrinsic+json": {
              "type": "dataframe",
              "variable_name": "df"
            }
          },
          "metadata": {},
          "execution_count": 3
        }
      ]
    },
    {
      "cell_type": "code",
      "source": [
        "df['dropout_likelihood'].unique()"
      ],
      "metadata": {
        "colab": {
          "base_uri": "https://localhost:8080/"
        },
        "id": "POctYIwpUZjD",
        "outputId": "961e29b8-4545-4ba8-ca9c-6de3a44675c3"
      },
      "execution_count": null,
      "outputs": [
        {
          "output_type": "execute_result",
          "data": {
            "text/plain": [
              "array([0, 1])"
            ]
          },
          "metadata": {},
          "execution_count": 4
        }
      ]
    },
    {
      "cell_type": "code",
      "source": [
        "df.info()"
      ],
      "metadata": {
        "colab": {
          "base_uri": "https://localhost:8080/"
        },
        "id": "dZOJ-3JLU4g_",
        "outputId": "7aa90823-0ea5-4b04-e70d-cb1ea17a0bdd"
      },
      "execution_count": null,
      "outputs": [
        {
          "output_type": "stream",
          "name": "stdout",
          "text": [
            "<class 'pandas.core.frame.DataFrame'>\n",
            "RangeIndex: 10000 entries, 0 to 9999\n",
            "Data columns (total 27 columns):\n",
            " #   Column                          Non-Null Count  Dtype  \n",
            "---  ------                          --------------  -----  \n",
            " 0   student_id                      10000 non-null  object \n",
            " 1   age                             10000 non-null  int64  \n",
            " 2   gender                          10000 non-null  int64  \n",
            " 3   time_spent_on_videos            10000 non-null  int64  \n",
            " 4   quiz_attempts                   10000 non-null  int64  \n",
            " 5   quiz_scores                     10000 non-null  int64  \n",
            " 6   forum_participation             10000 non-null  int64  \n",
            " 7   assignment_completion_rate      10000 non-null  int64  \n",
            " 8   engagement_level                10000 non-null  int64  \n",
            " 9   final_exam_score                10000 non-null  int64  \n",
            " 10  feedback_score                  10000 non-null  int64  \n",
            " 11  dropout_likelihood              10000 non-null  int64  \n",
            " 12  education_level_Postgraduate    10000 non-null  bool   \n",
            " 13  education_level_Undergraduate   10000 non-null  bool   \n",
            " 14  course_name_Data Science        10000 non-null  bool   \n",
            " 15  course_name_Machine Learning    10000 non-null  bool   \n",
            " 16  course_name_Python Basics       10000 non-null  bool   \n",
            " 17  course_name_Web Development     10000 non-null  bool   \n",
            " 18  learning_style_Kinesthetic      10000 non-null  bool   \n",
            " 19  learning_style_Reading/Writing  10000 non-null  bool   \n",
            " 20  learning_style_Visual           10000 non-null  bool   \n",
            " 21  engagement_score                10000 non-null  float64\n",
            " 22  learning_outcome_score          10000 non-null  float64\n",
            " 23  age_group_19–25                 10000 non-null  bool   \n",
            " 24  age_group_26–35                 10000 non-null  bool   \n",
            " 25  age_group_36–50                 10000 non-null  bool   \n",
            " 26  age_group_51+                   10000 non-null  bool   \n",
            "dtypes: bool(13), float64(2), int64(11), object(1)\n",
            "memory usage: 1.2+ MB\n"
          ]
        }
      ]
    },
    {
      "cell_type": "markdown",
      "source": [
        "## **Clustering - Learner Segmentation**"
      ],
      "metadata": {
        "id": "V--Y3s-TRTRj"
      }
    },
    {
      "cell_type": "markdown",
      "source": [
        "We segment the learners by using KMeans Clustering"
      ],
      "metadata": {
        "id": "vtiJZGHzSUox"
      }
    },
    {
      "cell_type": "code",
      "source": [
        "# Select features for clustering\n",
        "cluster_features = ['time_spent_on_videos', 'quiz_attempts', 'quiz_scores',\n",
        "                    'forum_participation', 'assignment_completion_rate',\n",
        "                    'final_exam_score', 'feedback_score']\n",
        "\n",
        "scaler = StandardScaler()\n",
        "scaled_data = scaler.fit_transform(df[cluster_features])\n",
        "\n",
        "# Elbow method\n",
        "wcss = []\n",
        "for i in range(2, 8):\n",
        "    kmeans = KMeans(n_clusters=i, random_state=42)\n",
        "    kmeans.fit(scaled_data)\n",
        "    wcss.append(kmeans.inertia_)\n",
        "\n",
        "plt.plot(range(2, 8), wcss, marker='o')\n",
        "plt.title(\"Elbow Method For Optimal Clusters\")\n",
        "plt.xlabel(\"Number of Clusters\")\n",
        "plt.ylabel(\"WCSS\")\n",
        "plt.show()\n",
        "\n",
        "# Apply KMeans\n",
        "kmeans = KMeans(n_clusters=3, random_state=42)\n",
        "df['learner_cluster'] = kmeans.fit_predict(scaled_data)\n"
      ],
      "metadata": {
        "colab": {
          "base_uri": "https://localhost:8080/",
          "height": 472
        },
        "id": "qF0XBt18Samj",
        "outputId": "e7946762-f11c-4b5d-ecc9-bdfb55d802a9"
      },
      "execution_count": null,
      "outputs": [
        {
          "output_type": "display_data",
          "data": {
            "text/plain": [
              "<Figure size 640x480 with 1 Axes>"
            ],
            "image/png": "[encoded data removed]"
          },
          "metadata": {}
        }
      ]
    },
    {
      "cell_type": "markdown",
      "source": [
        "## **Dropout Prediction Model**"
      ],
      "metadata": {
        "id": "V73fqUJ6UEd7"
      }
    },
    {
      "cell_type": "markdown",
      "source": [
        "Predicting dropout likelihood using Supervised Learning"
      ],
      "metadata": {
        "id": "gEnUnXfKUH-O"
      }
    },
    {
      "cell_type": "code",
      "source": [
        "# Define features\n",
        "feature_cols = ['age', 'gender', 'time_spent_on_videos', 'quiz_attempts',\n",
        "                'forum_participation', 'assignment_completion_rate', 'final_exam_score',\n",
        "                'feedback_score', 'education_level_Undergraduate', 'education_level_Postgraduate',\n",
        "                'learning_style_Visual', 'learning_style_Reading/Writing', 'learning_style_Kinesthetic']\n",
        "\n",
        "X = df[feature_cols]\n",
        "y = df['dropout_likelihood']\n",
        "\n",
        "# Split & train\n",
        "X_train, X_test, y_train, y_test = train_test_split(X, y, stratify=y, random_state=42)\n",
        "rf_model = RandomForestClassifier(random_state=42)\n",
        "rf_model.fit(X_train, y_train)\n",
        "\n",
        "# Evaluate\n",
        "y_pred = rf_model.predict(X_test)\n",
        "print(classification_report(y_test, y_pred))\n",
        "ConfusionMatrixDisplay.from_estimator(rf_model, X_test, y_test).plot()\n"
      ],
      "metadata": {
        "colab": {
          "base_uri": "https://localhost:8080/",
          "height": 1000
        },
        "id": "Go9UfxPgTx3i",
        "outputId": "e69c7c81-e0e0-4d60-ca29-c3ddace56ad1"
      },
      "execution_count": null,
      "outputs": [
        {
          "output_type": "stream",
          "name": "stdout",
          "text": [
            "              precision    recall  f1-score   support\n",
            "\n",
            "           0       0.80      1.00      0.89      2011\n",
            "           1       0.00      0.00      0.00       489\n",
            "\n",
            "    accuracy                           0.80      2500\n",
            "   macro avg       0.40      0.50      0.45      2500\n",
            "weighted avg       0.65      0.80      0.72      2500\n",
            "\n"
          ]
        },
        {
          "output_type": "execute_result",
          "data": {
            "text/plain": [
              "<sklearn.metrics._plot.confusion_matrix.ConfusionMatrixDisplay at 0x7ebfd4db41d0>"
            ]
          },
          "metadata": {},
          "execution_count": 5
        },
        {
          "output_type": "display_data",
          "data": {
            "text/plain": [
              "<Figure size 640x480 with 2 Axes>"
            ],
            "image/png": "[encoded data removed]"
          },
          "metadata": {}
        },
        {
          "output_type": "display_data",
          "data": {
            "text/plain": [
              "<Figure size 640x480 with 2 Axes>"
            ],
            "image/png": "[encoded data removed]"
          },
          "metadata": {}
        }
      ]
    },
    {
      "cell_type": "markdown",
      "source": [
        "## **Recommendation Engine**"
      ],
      "metadata": {
        "id": "C75owG55Wcgz"
      }
    },
    {
      "cell_type": "code",
      "source": [
        "def recommend_course(user_input, kmeans_model, rf_model, scaler, cluster_features, feature_cols):\n",
        "    user_df = pd.DataFrame([user_input])\n",
        "\n",
        "    # Predict cluster\n",
        "    cluster_data = scaler.transform(user_df[cluster_features])\n",
        "    user_cluster = kmeans_model.predict(cluster_data)[0]\n",
        "\n",
        "    # Predict dropout\n",
        "    dropout_risk = rf_model.predict(user_df[feature_cols])[0]\n",
        "    style = user_input.get('learning_style', 'Visual')\n",
        "\n",
        "    # Recommendation logic\n",
        "    if dropout_risk == 1:\n",
        "        if style == 'Visual':\n",
        "            return \"⚠️ High dropout risk. Try: 'Python Basics' with visuals.\"\n",
        "        elif style == 'Reading/Writing':\n",
        "            return \"⚠️ Try: 'Cybersecurity' with text-based material.\"\n",
        "        else:\n",
        "            return \"⚠️ Try: 'Web Development' with interactive labs.\"\n",
        "\n",
        "    elif user_cluster == 0:\n",
        "        return \"✅ High performer! Try: 'Data Science' or 'ML'.\"\n",
        "    elif user_cluster == 1:\n",
        "        return \"📊 Moderate engagement. Try: 'Python Basics'.\"\n",
        "    elif style == 'Kinesthetic':\n",
        "        return \"👨‍🔧 Try: Hands-on courses like 'Web Development'.\"\n",
        "    else:\n",
        "        return \"📚 Suggest: Visual & forum-driven courses like 'ML' or 'Data Science'.\"\n"
      ],
      "metadata": {
        "id": "RHZ8HQ7MVfx8"
      },
      "execution_count": null,
      "outputs": []
    },
    {
      "cell_type": "markdown",
      "source": [
        "## **Test the Engine with sample users**"
      ],
      "metadata": {
        "id": "a97Z8QHuWmrf"
      }
    },
    {
      "cell_type": "code",
      "source": [
        "user_input = {\n",
        "    'age': 22,\n",
        "    'gender': 0,\n",
        "    'time_spent_on_videos': 300,\n",
        "    'quiz_attempts': 3,\n",
        "    'quiz_scores': 75,\n",
        "    'forum_participation': 5,\n",
        "    'assignment_completion_rate': 80,\n",
        "    'final_exam_score': 70,\n",
        "    'feedback_score': 4,\n",
        "    'education_level_Undergraduate': 1,\n",
        "    'education_level_Postgraduate': 0,\n",
        "    'learning_style_Visual': 1,\n",
        "    'learning_style_Reading/Writing': 0,\n",
        "    'learning_style_Kinesthetic': 0,\n",
        "    'learning_style': 'Visual'\n",
        "}\n",
        "\n",
        "recommend_course(user_input, kmeans, rf_model, scaler, cluster_features, feature_cols)\n"
      ],
      "metadata": {
        "colab": {
          "base_uri": "https://localhost:8080/",
          "height": 36
        },
        "id": "jrGHLRyVWgnp",
        "outputId": "ed2ff243-9b75-4e91-dd9b-fd944b708264"
      },
      "execution_count": null,
      "outputs": [
        {
          "output_type": "execute_result",
          "data": {
            "text/plain": [
              "\"📊 Moderate engagement. Try: 'Python Basics'.\""
            ],
            "application/vnd.google.colaboratory.intrinsic+json": {
              "type": "string"
            }
          },
          "metadata": {},
          "execution_count": 9
        }
      ]
    },
    {
      "cell_type": "markdown",
      "source": [
        "## **Save Model**"
      ],
      "metadata": {
        "id": "4wZnz4roW3Yw"
      }
    },
    {
      "cell_type": "code",
      "source": [
        "import joblib\n",
        "joblib.dump(kmeans, 'kmeans_model.pkl')\n",
        "joblib.dump(rf_model, 'rf_model.pkl')\n",
        "joblib.dump(scaler, 'scaler.pkl')\n"
      ],
      "metadata": {
        "colab": {
          "base_uri": "https://localhost:8080/"
        },
        "id": "yRO38MldWp0t",
        "outputId": "981d8169-a6d1-40be-a60d-afda47660b08"
      },
      "execution_count": null,
      "outputs": [
        {
          "output_type": "execute_result",
          "data": {
            "text/plain": [
              "['scaler.pkl']"
            ]
          },
          "metadata": {},
          "execution_count": 10
        }
      ]
    },
    {
      "cell_type": "markdown",
      "source": [
        "## **Save Dataset**"
      ],
      "metadata": {
        "id": "vOQnbfdgQxTs"
      }
    },
    {
      "cell_type": "code",
      "source": [
        "df.to_csv('/content/drive/MyDrive/results/clustered_personalized_learning_dataset.csv', index=False)"
      ],
      "metadata": {
        "id": "-p5IbQAhQzuv"
      },
      "execution_count": null,
      "outputs": []
    },
    {
      "cell_type": "markdown",
      "source": [
        "## **Conclusion**"
      ],
      "metadata": {
        "id": "ZB68qJEOW7nN"
      }
    },
    {
      "cell_type": "markdown",
      "source": [
        "We successfully clustered learners and predicted dropout likelihood. Based on these insights, we built a rule-based hybrid recommender system. Next we will deploy this model using a streamlit interface. We will visualize the behavioral insights using a Power BI dashboard."
      ],
      "metadata": {
        "id": "HAhIptPZW9tG"
      }
    }
  ]
}